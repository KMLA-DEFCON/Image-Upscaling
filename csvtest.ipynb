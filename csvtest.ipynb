{
 "cells": [
  {
   "cell_type": "code",
   "execution_count": 13,
   "metadata": {},
   "outputs": [
    {
     "name": "stdout",
     "output_type": "stream",
     "text": [
      "images.png\n",
      "yoshi.png\n",
      "man.png\n",
      "pikachu.png\n"
     ]
    }
   ],
   "source": [
    "import os\n",
    "\n",
    "for image_type in os.listdir(\"./images\"):\n",
    "    for image in os.listdir(f\"./images/{image_type}\"):\n",
    "            print(image)"
   ]
  },
  {
   "cell_type": "code",
   "execution_count": null,
   "metadata": {},
   "outputs": [],
   "source": []
  }
 ],
 "metadata": {
  "kernelspec": {
   "display_name": "Python 3.8.10 64-bit",
   "language": "python",
   "name": "python3"
  },
  "language_info": {
   "codemirror_mode": {
    "name": "ipython",
    "version": 3
   },
   "file_extension": ".py",
   "mimetype": "text/x-python",
   "name": "python",
   "nbconvert_exporter": "python",
   "pygments_lexer": "ipython3",
   "version": "3.8.10"
  },
  "orig_nbformat": 4,
  "vscode": {
   "interpreter": {
    "hash": "f6adcad1899b4d93b232dda92c560a105034513a5e56f428ed2a4318b95addba"
   }
  }
 },
 "nbformat": 4,
 "nbformat_minor": 2
}
