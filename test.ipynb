{
 "cells": [
  {
   "cell_type": "code",
   "execution_count": 1,
   "metadata": {},
   "outputs": [],
   "source": [
    "import cv2\n",
    "from matplotlib import image\n",
    "import matplotlib.pyplot as plt\n",
    "import numpy as np\n",
    "from math import sqrt, floor, ceil\n",
    "from PIL import Image\n",
    "import math"
   ]
  },
  {
   "cell_type": "code",
   "execution_count": 2,
   "metadata": {},
   "outputs": [],
   "source": [
    "def read_image(path):\n",
    "\n",
    "    img = cv2.imread(path)  # path , cv2.IMREAD_GRAYSCALE\n",
    "    \n",
    "    '''\n",
    "    cv2.imwrite(\"./asda.png\", img)\n",
    "    print(img) \n",
    "    dimg = Image.fromarray(img)\n",
    "    dimg.save(\"./asda.png\")\n",
    "    dimg.show()\n",
    "    '''\n",
    "    \n",
    "    size = img.shape\n",
    "    dimension = (size[0], size[1])\n",
    "\n",
    "    return img, size, dimension"
   ]
  },
  {
   "cell_type": "code",
   "execution_count": 3,
   "metadata": {},
   "outputs": [
    {
     "name": "stdout",
     "output_type": "stream",
     "text": [
      "Image size is: (256, 256, 3)\n"
     ]
    }
   ],
   "source": [
    "img, size, dimension = read_image(\"./image.png\")\n",
    "print(f\"Image size is: {size}\")"
   ]
  },
  {
   "cell_type": "code",
   "execution_count": 4,
   "metadata": {},
   "outputs": [],
   "source": [
    "def image_change_scale(img, dimension, scale=100, interpolation=cv2.INTER_LINEAR):\n",
    "\n",
    "    scale /= 100\n",
    "    new_dimension = (int(dimension[1]*scale), int(dimension[0]*scale))\n",
    "    resized_img = cv2.resize(img, new_dimension, interpolation=interpolation)\n",
    "    return resized_img"
   ]
  },
  {
   "cell_type": "code",
   "execution_count": 5,
   "metadata": {},
   "outputs": [
    {
     "name": "stdout",
     "output_type": "stream",
     "text": [
      "Smalled Image size is: (64, 64, 3)\n"
     ]
    }
   ],
   "source": [
    "scale_percent = 25  # percent of original image size\n",
    "resized_img = image_change_scale(img, dimension, scale_percent)\n",
    "print(f\"Smalled Image size is: {resized_img.shape}\")"
   ]
  },
  {
   "cell_type": "code",
   "execution_count": 6,
   "metadata": {},
   "outputs": [],
   "source": [
    "nn_img = image_change_scale(\n",
    "resized_img, dimension, interpolation=cv2.INTER_NEAREST)"
   ]
  },
  {
   "cell_type": "code",
   "execution_count": 7,
   "metadata": {},
   "outputs": [],
   "source": [
    "def testimage(img1, img2):\n",
    "    print(img1.shape)\n",
    "    print(img2.shape)\n",
    "    print(img2.ndim)\n",
    "    print(img1.ndim)\n",
    "    if img1.shape == img2.shape:\n",
    "        return img1.ndim\n",
    "    "
   ]
  },
  {
   "cell_type": "code",
   "execution_count": 8,
   "metadata": {},
   "outputs": [
    {
     "name": "stdout",
     "output_type": "stream",
     "text": [
      "(256, 256, 3)\n",
      "(256, 256, 3)\n",
      "3\n",
      "3\n",
      "[3]\n"
     ]
    }
   ],
   "source": [
    "testlist = []\n",
    "\n",
    "testlist.append(testimage(nn_img, img))\n",
    "print(testlist)"
   ]
  },
  {
   "cell_type": "code",
   "execution_count": null,
   "metadata": {},
   "outputs": [],
   "source": []
  }
 ],
 "metadata": {
  "kernelspec": {
   "display_name": "Python 3.8.10 64-bit",
   "language": "python",
   "name": "python3"
  },
  "language_info": {
   "codemirror_mode": {
    "name": "ipython",
    "version": 3
   },
   "file_extension": ".py",
   "mimetype": "text/x-python",
   "name": "python",
   "nbconvert_exporter": "python",
   "pygments_lexer": "ipython3",
   "version": "3.8.10"
  },
  "orig_nbformat": 4,
  "vscode": {
   "interpreter": {
    "hash": "f6adcad1899b4d93b232dda92c560a105034513a5e56f428ed2a4318b95addba"
   }
  }
 },
 "nbformat": 4,
 "nbformat_minor": 2
}
